{
 "cells": [
  {
   "cell_type": "markdown",
   "id": "01747db6-717e-4d27-8df1-eab154a09f11",
   "metadata": {},
   "source": [
    "นายสิทธินันท์  ชัยสิทธิ์\n",
    "รหัส 6712732129"
   ]
  },
  {
   "cell_type": "code",
   "execution_count": 2,
   "id": "4f1f3489-9b72-4909-98ce-67b5a1a6ebe1",
   "metadata": {},
   "outputs": [
    {
     "name": "stdout",
     "output_type": "stream",
     "text": [
      "Hello,World\n"
     ]
    }
   ],
   "source": [
    "print (\"Hello,World\")"
   ]
  },
  {
   "cell_type": "code",
   "execution_count": null,
   "id": "93172abf-4d5d-4254-82a6-2874046c717c",
   "metadata": {},
   "outputs": [],
   "source": []
  }
 ],
 "metadata": {
  "kernelspec": {
   "display_name": "Python 3 (ipykernel)",
   "language": "python",
   "name": "python3"
  },
  "language_info": {
   "codemirror_mode": {
    "name": "ipython",
    "version": 3
   },
   "file_extension": ".py",
   "mimetype": "text/x-python",
   "name": "python",
   "nbconvert_exporter": "python",
   "pygments_lexer": "ipython3",
   "version": "3.12.7"
  }
 },
 "nbformat": 4,
 "nbformat_minor": 5
}
